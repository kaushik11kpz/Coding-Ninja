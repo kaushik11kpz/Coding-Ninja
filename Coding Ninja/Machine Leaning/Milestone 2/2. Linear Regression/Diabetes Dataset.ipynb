{
 "cells": [
  {
   "cell_type": "code",
   "execution_count": 1,
   "id": "d5bc3d6d",
   "metadata": {},
   "outputs": [],
   "source": [
    "import numpy as np"
   ]
  },
  {
   "cell_type": "code",
   "execution_count": 3,
   "id": "2c901064",
   "metadata": {},
   "outputs": [],
   "source": [
    "data_training = np.genfromtxt(\"Diabetes-Train.csv\",delimiter=',')\n",
    "data_testing = np.genfromtxt(\"Diabetes-Test.csv\",delimiter=\",\")"
   ]
  },
  {
   "cell_type": "code",
   "execution_count": 4,
   "id": "de857da9",
   "metadata": {},
   "outputs": [],
   "source": [
    "X=data_training[:,:10]\n",
    "Y=data_training[:,10]"
   ]
  },
  {
   "cell_type": "code",
   "execution_count": 5,
   "id": "868871e8",
   "metadata": {},
   "outputs": [],
   "source": [
    "from sklearn import model_selection\n",
    "X_Train,X_Test,Y_Train,Y_Test = model_selection.train_test_split(X,Y)"
   ]
  },
  {
   "cell_type": "code",
   "execution_count": 7,
   "id": "b6acd8da",
   "metadata": {},
   "outputs": [],
   "source": [
    "from sklearn.linear_model import LinearRegression\n",
    "model = LinearRegression()"
   ]
  },
  {
   "cell_type": "code",
   "execution_count": 9,
   "id": "52e6768c",
   "metadata": {},
   "outputs": [
    {
     "data": {
      "text/plain": [
       "LinearRegression()"
      ]
     },
     "execution_count": 9,
     "metadata": {},
     "output_type": "execute_result"
    }
   ],
   "source": [
    "model.fit(X_Train,Y_Train)"
   ]
  },
  {
   "cell_type": "code",
   "execution_count": 10,
   "id": "5aa0acb1",
   "metadata": {},
   "outputs": [],
   "source": [
    "Y_Pred = model.predict(X_Test)"
   ]
  },
  {
   "cell_type": "code",
   "execution_count": 14,
   "id": "91ac294d",
   "metadata": {},
   "outputs": [
    {
     "data": {
      "text/plain": [
       "1.0"
      ]
     },
     "execution_count": 14,
     "metadata": {},
     "output_type": "execute_result"
    }
   ],
   "source": [
    "#training data\n",
    "model.score(X_Test,Y_Pred)\n"
   ]
  },
  {
   "cell_type": "code",
   "execution_count": 15,
   "id": "fe64f6cc",
   "metadata": {},
   "outputs": [],
   "source": [
    "#data_testing_X_test = data_testing[:,0:10]\n",
    "data_testing_pred   = model.predict(data_testing).round(5)"
   ]
  },
  {
   "cell_type": "code",
   "execution_count": 16,
   "id": "db853b6f",
   "metadata": {},
   "outputs": [],
   "source": [
    "np.savetxt(\"output.csv\",data_testing_pred)"
   ]
  },
  {
   "cell_type": "code",
   "execution_count": null,
   "id": "589ce5ed",
   "metadata": {},
   "outputs": [],
   "source": []
  }
 ],
 "metadata": {
  "kernelspec": {
   "display_name": "Python 3 (ipykernel)",
   "language": "python",
   "name": "python3"
  },
  "language_info": {
   "codemirror_mode": {
    "name": "ipython",
    "version": 3
   },
   "file_extension": ".py",
   "mimetype": "text/x-python",
   "name": "python",
   "nbconvert_exporter": "python",
   "pygments_lexer": "ipython3",
   "version": "3.9.7"
  }
 },
 "nbformat": 4,
 "nbformat_minor": 5
}
